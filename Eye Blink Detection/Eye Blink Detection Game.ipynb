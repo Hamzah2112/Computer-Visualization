{
 "cells": [
  {
   "cell_type": "markdown",
   "metadata": {},
   "source": [
    "# Eye-Blink Detection Game using open cv library"
   ]
  },
  {
   "cell_type": "code",
   "execution_count": 2,
   "metadata": {},
   "outputs": [
    {
     "name": "stdout",
     "output_type": "stream",
     "text": [
      " you loose\n",
      "----------------------\n",
      " you loose\n",
      " you loose\n",
      " you loose\n"
     ]
    }
   ],
   "source": [
    "#Importing necessary libraries\n",
    "import numpy as np\n",
    "import cv2\n",
    "\n",
    "#Initializing the face and eye cascade classifiers from xml files\n",
    "face_cascade =cv2.CascadeClassifier('C:\\\\Users\\\\Hamzah\\\\anaconda3\\\\Lib\\\\site-packages\\\\cv2\\\\data\\\\haarcascade_frontalface_default.xml')\n",
    "eye_cascade=cv2.CascadeClassifier('C:\\\\Users\\\\Hamzah\\\\anaconda3\\\\Lib\\\\site-packages\\\\cv2\\\\data\\\\haarcascade_eye.xml')\n",
    "\n",
    "#Variable store execution state\n",
    "first_read = True\n",
    "\n",
    "#Starting the video capture\n",
    "cap = cv2.VideoCapture(0)\n",
    "ret,img = cap.read()\n",
    "while(ret):\n",
    "    ret,img = cap.read()\n",
    "    #Coverting the recorded image to grayscale\n",
    "    gray = cv2.cvtColor(img,cv2.COLOR_BGR2GRAY)\n",
    "     #Applying filter to remove impurities\n",
    "    gray = cv2.bilateralFilter(gray,5,1,1)\n",
    "     #Detecting the face for region of image to be fed to eye classifier\n",
    "    faces = face_cascade.detectMultiScale(gray, 1.3, 5,minSize=(200,200))\n",
    "    if(len(faces)>0):\n",
    "        for (x,y,w,h) in faces:\n",
    "            img = cv2.rectangle(img,(x,y),(x+w,y+h),(0,255,0),2)\n",
    "            roi_face = gray[y:y+h,x:x+w]\n",
    "            roi_face_clr = img[y:y+h,x:x+w]\n",
    "            eyes = eye_cascade.detectMultiScale(roi_face,1.3,5,minSize=(50,50))\n",
    "             #Examining the length of eyes object for eyes\n",
    "            if(len(eyes)>=2):\n",
    "                if(first_read):\n",
    "                    cv2.putText(img, \"press s to begin\", (50,50), cv2.FONT_HERSHEY_PLAIN, 3,(0,0,255),2)\n",
    "                else:\n",
    "                    print(\"----------------------\")\n",
    "            else:\n",
    "                if(first_read):\n",
    "                    cv2.putText(img, \"No eyes detected\", (50,50), cv2.FONT_HERSHEY_PLAIN, 3,(0,0,255),2)\n",
    "                else:\n",
    "                    print(\" you loose\")\n",
    "                    first_read=True\n",
    "    else:\n",
    "        cv2.putText(img,\"No face detected\",(100,100),cv2.FONT_HERSHEY_PLAIN, 3, (0,255,0),2)\n",
    "\n",
    "\n",
    "    cv2.imshow('img',img)\n",
    "    a = cv2.waitKey(1)\n",
    "    if(a==ord('q')):\n",
    "        break\n",
    "    elif(a==ord('s') and first_read):\n",
    "        first_read = False\n",
    "\n",
    "\n",
    "cap.release()\n",
    "cv2.destroyAllWindows()"
   ]
  },
  {
   "cell_type": "code",
   "execution_count": null,
   "metadata": {},
   "outputs": [],
   "source": []
  }
 ],
 "metadata": {
  "kernelspec": {
   "display_name": "Python 3",
   "language": "python",
   "name": "python3"
  },
  "language_info": {
   "codemirror_mode": {
    "name": "ipython",
    "version": 3
   },
   "file_extension": ".py",
   "mimetype": "text/x-python",
   "name": "python",
   "nbconvert_exporter": "python",
   "pygments_lexer": "ipython3",
   "version": "3.8.5"
  }
 },
 "nbformat": 4,
 "nbformat_minor": 4
}
